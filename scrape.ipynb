{
 "cells": [
  {
   "cell_type": "code",
   "execution_count": 3,
   "metadata": {},
   "outputs": [],
   "source": [
    "import requests\n",
    "from bs4 import BeautifulSoup\n",
    "from collections import defaultdict\n",
    "import pandas as pd"
   ]
  },
  {
   "cell_type": "code",
   "execution_count": 4,
   "metadata": {},
   "outputs": [],
   "source": [
    "url=\"https://www.1mg.com/drugs-all-medicines\""
   ]
  },
  {
   "cell_type": "code",
   "execution_count": 5,
   "metadata": {},
   "outputs": [],
   "source": [
    "res=requests.get(url)"
   ]
  },
  {
   "cell_type": "code",
   "execution_count": 6,
   "metadata": {},
   "outputs": [],
   "source": [
    "# setting headers for request as brave browser\n",
    "headers={\n",
    "   \"User-Agent\": \"Mozilla/5.0 (X11; Ubuntu; Linux i686; rv:102.0) Gecko/20100101 Firefox/102.0.\"\n",
    "}"
   ]
  },
  {
   "cell_type": "code",
   "execution_count": 7,
   "metadata": {},
   "outputs": [],
   "source": [
    "response=requests.get(url,headers=headers)"
   ]
  },
  {
   "cell_type": "code",
   "execution_count": 8,
   "metadata": {},
   "outputs": [],
   "source": [
    "soup=BeautifulSoup(response.content,\"html.parser\")\n"
   ]
  },
  {
   "cell_type": "code",
   "execution_count": 9,
   "metadata": {},
   "outputs": [
    {
     "data": {
      "text/plain": [
       "'Augmentin 625 Duo TabletMRP₹223.42'"
      ]
     },
     "execution_count": 9,
     "metadata": {},
     "output_type": "execute_result"
    }
   ],
   "source": [
    "medic=soup.find_all('div',class_=\"style__font-bold___1k9Dl style__font-14px___YZZrf style__flex-row___2AKyf style__space-between___2mbvn style__padding-bottom-5px___2NrDR\")\n",
    "medic[0].text\n"
   ]
  },
  {
   "cell_type": "code",
   "execution_count": 14,
   "metadata": {},
   "outputs": [],
   "source": [
    "med_list=[]"
   ]
  },
  {
   "cell_type": "code",
   "execution_count": 27,
   "metadata": {},
   "outputs": [],
   "source": [
    "for med in medic:\n",
    "    med_list.append(med.text.split(\"MRP \"))"
   ]
  },
  {
   "cell_type": "code",
   "execution_count": 28,
   "metadata": {},
   "outputs": [
    {
     "data": {
      "text/plain": [
       "[['Augmentin 625 Duo Tablet', '₹223.42'],\n",
       " ['Azithral 500 Tablet', '₹132.36'],\n",
       " ['Ascoril LS Syrup', '₹118'],\n",
       " ['Allegra 120mg Tablet', '₹203.46'],\n",
       " ['Avil 25 Tablet', '₹9.97'],\n",
       " ['Amoxyclav 625 Tablet', '₹113.25'],\n",
       " ['Azee 500 Tablet', '₹119.5'],\n",
       " ['Ascoril D Plus Syrup Sugar Free', '₹129'],\n",
       " ['Aciloc 150 Tablet', '₹40.94'],\n",
       " ['Atarax 25mg Tablet', '₹85.5'],\n",
       " ['Alex Syrup', '₹129'],\n",
       " ['Anovate Cream', '₹122'],\n",
       " ['Allegra-M Tablet', '₹241.48'],\n",
       " ['Ambrodil-S Syrup', '₹30.2'],\n",
       " ['Avomine Tablet', '₹50.89'],\n",
       " ['Arkamin Tablet', '₹72.65'],\n",
       " ['Augmentin Duo Oral Suspension', '₹67.2'],\n",
       " ['Allegra 180mg Tablet', '₹239.22'],\n",
       " ['Alprax 0.25 Tablet', '₹29'],\n",
       " ['Asthalin Syrup', '₹16.8'],\n",
       " ['Alkasol Oral Solution', '₹122.05'],\n",
       " ['Altraday Capsule SR', '₹120'],\n",
       " ['Albendazole 400mg Tablet', '₹8.65'],\n",
       " ['Ativan 2mg Tablet', '₹91.87'],\n",
       " ['Aciloc RD 20 Tablet', '₹70.2'],\n",
       " ['Asthakind-DX Syrup Sugar Free', '₹64'],\n",
       " ['Aldactone Tablet', '₹35.35'],\n",
       " ['Almox 500 Capsule', '₹80.26'],\n",
       " ['Axcer  90mg Tablet', '₹420'],\n",
       " ['Ativan 1mg Tablet', '₹75.67'],\n",
       " ['Augmentin 625 Duo Tablet', '223.42'],\n",
       " ['Azithral 500 Tablet', '132.36'],\n",
       " ['Ascoril LS Syrup', '118'],\n",
       " ['Allegra 120mg Tablet', '203.46'],\n",
       " ['Avil 25 Tablet', '9.97'],\n",
       " ['Amoxyclav 625 Tablet', '113.25'],\n",
       " ['Azee 500 Tablet', '119.5'],\n",
       " ['Ascoril D Plus Syrup Sugar Free', '129'],\n",
       " ['Aciloc 150 Tablet', '40.94'],\n",
       " ['Atarax 25mg Tablet', '85.5'],\n",
       " ['Alex Syrup', '129'],\n",
       " ['Anovate Cream', '122'],\n",
       " ['Allegra-M Tablet', '241.48'],\n",
       " ['Ambrodil-S Syrup', '30.2'],\n",
       " ['Avomine Tablet', '50.89'],\n",
       " ['Arkamin Tablet', '72.65'],\n",
       " ['Augmentin Duo Oral Suspension', '67.2'],\n",
       " ['Allegra 180mg Tablet', '239.22'],\n",
       " ['Alprax 0.25 Tablet', '29'],\n",
       " ['Asthalin Syrup', '16.8'],\n",
       " ['Alkasol Oral Solution', '122.05'],\n",
       " ['Altraday Capsule SR', '120'],\n",
       " ['Albendazole 400mg Tablet', '8.65'],\n",
       " ['Ativan 2mg Tablet', '91.87'],\n",
       " ['Aciloc RD 20 Tablet', '70.2'],\n",
       " ['Asthakind-DX Syrup Sugar Free', '64'],\n",
       " ['Aldactone Tablet', '35.35'],\n",
       " ['Almox 500 Capsule', '80.26'],\n",
       " ['Axcer  90mg Tablet', '420'],\n",
       " ['Ativan 1mg Tablet', '75.67'],\n",
       " ['Augmentin 625 Duo TabletMRP₹223.42'],\n",
       " ['Azithral 500 TabletMRP₹132.36'],\n",
       " ['Ascoril LS SyrupMRP₹118'],\n",
       " ['Allegra 120mg TabletMRP₹203.46'],\n",
       " ['Avil 25 TabletMRP₹9.97'],\n",
       " ['Amoxyclav 625 TabletMRP₹113.25'],\n",
       " ['Azee 500 TabletMRP₹119.5'],\n",
       " ['Ascoril D Plus Syrup Sugar FreeMRP₹129'],\n",
       " ['Aciloc 150 TabletMRP₹40.94'],\n",
       " ['Atarax 25mg TabletMRP₹85.5'],\n",
       " ['Alex SyrupMRP₹129'],\n",
       " ['Anovate CreamMRP₹122'],\n",
       " ['Allegra-M TabletMRP₹241.48'],\n",
       " ['Ambrodil-S SyrupMRP₹30.2'],\n",
       " ['Avomine TabletMRP₹50.89'],\n",
       " ['Arkamin TabletMRP₹72.65'],\n",
       " ['Augmentin Duo Oral SuspensionMRP₹67.2'],\n",
       " ['Allegra 180mg TabletMRP₹239.22'],\n",
       " ['Alprax 0.25 TabletMRP₹29'],\n",
       " ['Asthalin SyrupMRP₹16.8'],\n",
       " ['Alkasol Oral SolutionMRP₹122.05'],\n",
       " ['Altraday Capsule SRMRP₹120'],\n",
       " ['Albendazole 400mg TabletMRP₹8.65'],\n",
       " ['Ativan 2mg TabletMRP₹91.87'],\n",
       " ['Aciloc RD 20 TabletMRP₹70.2'],\n",
       " ['Asthakind-DX Syrup Sugar FreeMRP₹64'],\n",
       " ['Aldactone TabletMRP₹35.35'],\n",
       " ['Almox 500 CapsuleMRP₹80.26'],\n",
       " ['Axcer  90mg TabletMRP₹420'],\n",
       " ['Ativan 1mg TabletMRP₹75.67'],\n",
       " ['Augmentin 625 Duo TabletMRP₹223.42'],\n",
       " ['Azithral 500 TabletMRP₹132.36'],\n",
       " ['Ascoril LS SyrupMRP₹118'],\n",
       " ['Allegra 120mg TabletMRP₹203.46'],\n",
       " ['Avil 25 TabletMRP₹9.97'],\n",
       " ['Amoxyclav 625 TabletMRP₹113.25'],\n",
       " ['Azee 500 TabletMRP₹119.5'],\n",
       " ['Ascoril D Plus Syrup Sugar FreeMRP₹129'],\n",
       " ['Aciloc 150 TabletMRP₹40.94'],\n",
       " ['Atarax 25mg TabletMRP₹85.5'],\n",
       " ['Alex SyrupMRP₹129'],\n",
       " ['Anovate CreamMRP₹122'],\n",
       " ['Allegra-M TabletMRP₹241.48'],\n",
       " ['Ambrodil-S SyrupMRP₹30.2'],\n",
       " ['Avomine TabletMRP₹50.89'],\n",
       " ['Arkamin TabletMRP₹72.65'],\n",
       " ['Augmentin Duo Oral SuspensionMRP₹67.2'],\n",
       " ['Allegra 180mg TabletMRP₹239.22'],\n",
       " ['Alprax 0.25 TabletMRP₹29'],\n",
       " ['Asthalin SyrupMRP₹16.8'],\n",
       " ['Alkasol Oral SolutionMRP₹122.05'],\n",
       " ['Altraday Capsule SRMRP₹120'],\n",
       " ['Albendazole 400mg TabletMRP₹8.65'],\n",
       " ['Ativan 2mg TabletMRP₹91.87'],\n",
       " ['Aciloc RD 20 TabletMRP₹70.2'],\n",
       " ['Asthakind-DX Syrup Sugar FreeMRP₹64'],\n",
       " ['Aldactone TabletMRP₹35.35'],\n",
       " ['Almox 500 CapsuleMRP₹80.26'],\n",
       " ['Axcer  90mg TabletMRP₹420'],\n",
       " ['Ativan 1mg TabletMRP₹75.67']]"
      ]
     },
     "execution_count": 28,
     "metadata": {},
     "output_type": "execute_result"
    }
   ],
   "source": [
    "med_list\n",
    "    "
   ]
  },
  {
   "cell_type": "code",
   "execution_count": 40,
   "metadata": {},
   "outputs": [
    {
     "data": {
      "text/plain": [
       "'947'"
      ]
     },
     "execution_count": 40,
     "metadata": {},
     "output_type": "execute_result"
    }
   ],
   "source": [
    "soup.find_all(class_=\"button-text link-page\")[-1].text"
   ]
  },
  {
   "cell_type": "code",
   "execution_count": 18,
   "metadata": {},
   "outputs": [],
   "source": [
    "def fetchdata(url):\n",
    "    data=[]\n",
    "    response=requests.get(url,headers=headers)\n",
    "    soup=BeautifulSoup(response.content,\"html.parser\")\n",
    "    medicine=soup.find_all(class_=\"style__font-bold___1k9Dl style__font-14px___YZZrf style__flex-row___2AKyf style__space-between___2mbvn style__padding-bottom-5px___2NrDR\")\n",
    "    for med in medicine:\n",
    "        med=med.text\n",
    "        data.append(med.split(\"MRP\"))\n",
    "    return data"
   ]
  },
  {
   "cell_type": "code",
   "execution_count": 41,
   "metadata": {},
   "outputs": [
    {
     "data": {
      "text/plain": [
       "[['Airabzo 20mg Injection', '₹262'],\n",
       " ['Azme 500mg Tablet', '₹64.95'],\n",
       " ['Amaclav LB 500mg/125mg Tablet', '₹250'],\n",
       " ['Aceclokas PT 4mg/100mg/325mg Tablet', '₹180'],\n",
       " ['Abiros CA 75mg/20mg/75mg Tablet', '₹180'],\n",
       " ['Avugesic SP 50mg/325mg/10mg Tablet', '₹61'],\n",
       " ['Avupenem 1000mg Injection', '₹2900'],\n",
       " ['Avucin 250mg Injection', '₹27.8'],\n",
       " ['Aitoba 0.3% Eye Drop', '₹59'],\n",
       " ['Agunex CV Kid 250mg/50mg Injection', '₹68.4'],\n",
       " ['Admezol 20mg Capsule', '₹36'],\n",
       " ['Aedizith 500 Tablet', '₹60.5'],\n",
       " ['Acufenac 75mg Injection', '₹15'],\n",
       " ['Azbci 200mg Syrup', '₹53.9'],\n",
       " ['Amkasig 100mg Injection', '₹18'],\n",
       " ['Amkasig 250mg Injection', '₹34'],\n",
       " ['Amfenac 200mg Tablet SR', '₹35'],\n",
       " ['Amsi-Cold DS Oral Suspension', '₹65'],\n",
       " ['Acesun P 100mg/325mg Tablet', '₹55'],\n",
       " ['Atnerab LS 75mg/20mg Capsule SR', '₹167'],\n",
       " ['Aeltax 1000mg Injection', '₹65'],\n",
       " ['Abomika 500mg Injection', '₹110'],\n",
       " ['Anupar M DS Oral Suspension', '₹51'],\n",
       " ['Amiclax 250mg Injection', '₹37'],\n",
       " ['Adencef CV 200mg/125mg Tablet', '₹186'],\n",
       " ['Adicure C Gel', '₹120'],\n",
       " ['Allvir 500mg Injection', '₹542'],\n",
       " ['Azniw 500mg Tablet', '₹70'],\n",
       " ['Azuda 500mg Tablet', '₹62'],\n",
       " ['Acd Rab 30mg/20mg Capsule', '₹85']]"
      ]
     },
     "execution_count": 41,
     "metadata": {},
     "output_type": "execute_result"
    }
   ],
   "source": [
    "tt=fetchdata(\"https://www.1mg.com/drugs-all-medicines?page=946\")\n",
    "tt"
   ]
  },
  {
   "cell_type": "code",
   "execution_count": 19,
   "metadata": {},
   "outputs": [],
   "source": [
    "# for finding the number of pages for each character from a-z and storing it in list max_page\n",
    "i=97 \n",
    "max_page=[]\n",
    "while i<=122:\n",
    "    url=\"https://www.1mg.com/drugs-all-medicines?label=\"+chr(i)\n",
    "    response=requests.get(url,headers=headers)\n",
    "    soup=BeautifulSoup(response.content,\"html.parser\")\n",
    "    a=soup.find_all(class_=\"button-text link-page\")\n",
    "    n=int(a[-1].text)\n",
    "    max_page.append(n)\n",
    "    \n",
    "    i+=1\n"
   ]
  },
  {
   "cell_type": "code",
   "execution_count": 20,
   "metadata": {},
   "outputs": [],
   "source": [
    "# defining a function that stores all the name of medicine and their respective prive in the form of list inside list\n",
    "def main():\n",
    "    data=[]\n",
    "    j=96\n",
    "    for page in max_page:\n",
    "        j+=1\n",
    "        i=1\n",
    "        print(\"Working on\",chr(j))\n",
    "        while i<=page:\n",
    "            url=f\"https://www.1mg.com/drugs-all-medicines?page={str(i)}&label={chr(j)}\"\n",
    "            tmp=list(fetchdata(url))\n",
    "            data.append(tmp)\n",
    "    return data"
   ]
  }
 ],
 "metadata": {
  "kernelspec": {
   "display_name": "Python 3.10.4 64-bit",
   "language": "python",
   "name": "python3"
  },
  "language_info": {
   "codemirror_mode": {
    "name": "ipython",
    "version": 3
   },
   "file_extension": ".py",
   "mimetype": "text/x-python",
   "name": "python",
   "nbconvert_exporter": "python",
   "pygments_lexer": "ipython3",
   "version": "3.10.4"
  },
  "orig_nbformat": 4,
  "vscode": {
   "interpreter": {
    "hash": "916dbcbb3f70747c44a77c7bcd40155683ae19c65e1c03b4aa3499c5328201f1"
   }
  }
 },
 "nbformat": 4,
 "nbformat_minor": 2
}
